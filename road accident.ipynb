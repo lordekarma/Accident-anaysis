{
 "cells": [
  {
   "cell_type": "code",
   "execution_count": 1,
   "id": "5d6c076d",
   "metadata": {},
   "outputs": [],
   "source": [
    "import pandas as pd\n",
    "import numpy as np\n",
    "from sklearn.linear_model import LinearRegression\n",
    "from sklearn.model_selection import train_test_split\n",
    "from sklearn.metrics import mean_absolute_error\n",
    "import joblib"
   ]
  },
  {
   "cell_type": "code",
   "execution_count": 3,
   "id": "20606c45",
   "metadata": {},
   "outputs": [
    {
     "name": "stdout",
     "output_type": "stream",
     "text": [
      "    weather  over speeding  vehicle state  road nature  topography  traffic  \\\n",
      "0         1              1              0            1           1        0   \n",
      "1         1              1              0            1           1        0   \n",
      "2         1              0              1            1           1        0   \n",
      "3         1              0              1            0           1        0   \n",
      "4         1              0              1            0           0        0   \n",
      "5         1              0              0            0           0        0   \n",
      "6         1              0              1            0           0        1   \n",
      "7         1              0              0            0           0        1   \n",
      "8         2              1              1            1           0        1   \n",
      "9         2              1              0            1           0        0   \n",
      "10        2              0              1            1           0        0   \n",
      "11        2              0              1            1           0        1   \n",
      "12        2              0              0            1           0        1   \n",
      "13        2              0              0            1           0        0   \n",
      "14        2              1              1            0           0        0   \n",
      "15        2              0              1            0           1        0   \n",
      "16        2              0              0            0           1        0   \n",
      "17        3              1              0            1           0        0   \n",
      "18        3              1              0            1           1        1   \n",
      "19        3              0              1            1           1        0   \n",
      "20        3              0              1            0           1        0   \n",
      "21        3              0              0            1           0        1   \n",
      "22        3              1              1            0           0        0   \n",
      "23        3              0              0            0           0        1   \n",
      "24        3              0              0            0           1        0   \n",
      "25        3              1              1            1           1        0   \n",
      "\n",
      "    Accident outcome  \n",
      "0                  1  \n",
      "1                  1  \n",
      "2                  0  \n",
      "3                  1  \n",
      "4                  0  \n",
      "5                  1  \n",
      "6                  0  \n",
      "7                  1  \n",
      "8                  1  \n",
      "9                  1  \n",
      "10                 0  \n",
      "11                 0  \n",
      "12                 1  \n",
      "13                 0  \n",
      "14                 1  \n",
      "15                 1  \n",
      "16                 1  \n",
      "17                 1  \n",
      "18                 1  \n",
      "19                 0  \n",
      "20                 1  \n",
      "21                 1  \n",
      "22                 1  \n",
      "23                 1  \n",
      "24                 1  \n",
      "25                 0  \n",
      "(26, 7)\n"
     ]
    }
   ],
   "source": [
    "data = pd.read_csv('roadaccidentdata.csv')\n",
    "print(data)\n",
    "print(data.shape)"
   ]
  },
  {
   "cell_type": "code",
   "execution_count": 4,
   "id": "40ed9652",
   "metadata": {},
   "outputs": [],
   "source": [
    "X = data.drop('Accident outcome',axis=1)\n",
    "y = data['Accident outcome']"
   ]
  },
  {
   "cell_type": "code",
   "execution_count": 9,
   "id": "18f4d0a1",
   "metadata": {},
   "outputs": [],
   "source": [
    "X_train,X_test,y_train,y_test = train_test_split(X,y, test_size=0.2, random_state=0)"
   ]
  },
  {
   "cell_type": "code",
   "execution_count": 10,
   "id": "7db3ec7e",
   "metadata": {},
   "outputs": [
    {
     "data": {
      "text/plain": [
       "LinearRegression()"
      ]
     },
     "execution_count": 10,
     "metadata": {},
     "output_type": "execute_result"
    }
   ],
   "source": [
    "model = LinearRegression()\n",
    "model.fit(X_train,y_train)"
   ]
  },
  {
   "cell_type": "code",
   "execution_count": 11,
   "id": "f0cb661f",
   "metadata": {},
   "outputs": [
    {
     "data": {
      "text/plain": [
       "array([0.0979483 , 0.55012657, 0.77369035, 0.82961377, 0.81276998,\n",
       "       0.19138961])"
      ]
     },
     "execution_count": 11,
     "metadata": {},
     "output_type": "execute_result"
    }
   ],
   "source": [
    "prediction = model.predict(X_test)\n",
    "prediction"
   ]
  },
  {
   "cell_type": "code",
   "execution_count": 12,
   "id": "9519b17a",
   "metadata": {},
   "outputs": [
    {
     "data": {
      "text/plain": [
       "['Accident_predictor.pkl']"
      ]
     },
     "execution_count": 12,
     "metadata": {},
     "output_type": "execute_result"
    }
   ],
   "source": [
    "joblib.dump(model,'Accident_predictor.pkl')"
   ]
  },
  {
   "cell_type": "code",
   "execution_count": null,
   "id": "7e84c7f4",
   "metadata": {},
   "outputs": [],
   "source": []
  }
 ],
 "metadata": {
  "kernelspec": {
   "display_name": "Python 3 (ipykernel)",
   "language": "python",
   "name": "python3"
  },
  "language_info": {
   "codemirror_mode": {
    "name": "ipython",
    "version": 3
   },
   "file_extension": ".py",
   "mimetype": "text/x-python",
   "name": "python",
   "nbconvert_exporter": "python",
   "pygments_lexer": "ipython3",
   "version": "3.9.12"
  }
 },
 "nbformat": 4,
 "nbformat_minor": 5
}
